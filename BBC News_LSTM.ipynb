{
 "cells": [
  {
   "cell_type": "code",
   "execution_count": 31,
   "metadata": {},
   "outputs": [
    {
     "name": "stdout",
     "output_type": "stream",
     "text": [
      "2.4.1\n"
     ]
    }
   ],
   "source": [
    "import tensorflow as tf\n",
    "print(tf.__version__)"
   ]
  },
  {
   "cell_type": "code",
   "execution_count": 32,
   "metadata": {},
   "outputs": [
    {
     "name": "stdout",
     "output_type": "stream",
     "text": [
      "Requirement already satisfied: nltk in c:\\users\\admin\\anaconda3\\lib\\site-packages (3.6.1)\n",
      "Requirement already satisfied: tqdm in c:\\users\\admin\\appdata\\roaming\\python\\python38\\site-packages (from nltk) (4.43.0)\n",
      "Requirement already satisfied: regex in c:\\users\\admin\\anaconda3\\lib\\site-packages (from nltk) (2020.10.15)\n",
      "Requirement already satisfied: joblib in c:\\users\\admin\\anaconda3\\lib\\site-packages (from nltk) (0.17.0)\n",
      "Requirement already satisfied: click in c:\\users\\admin\\anaconda3\\lib\\site-packages (from nltk) (7.1.2)\n"
     ]
    }
   ],
   "source": [
    "!pip install nltk"
   ]
  },
  {
   "cell_type": "code",
   "execution_count": 33,
   "metadata": {},
   "outputs": [
    {
     "name": "stderr",
     "output_type": "stream",
     "text": [
      "[nltk_data] Downloading package stopwords to\n",
      "[nltk_data]     C:\\Users\\Admin\\AppData\\Roaming\\nltk_data...\n",
      "[nltk_data]   Package stopwords is already up-to-date!\n"
     ]
    },
    {
     "data": {
      "text/plain": [
       "True"
      ]
     },
     "execution_count": 33,
     "metadata": {},
     "output_type": "execute_result"
    }
   ],
   "source": [
    "import nltk\n",
    "nltk.download('stopwords')"
   ]
  },
  {
   "cell_type": "code",
   "execution_count": 34,
   "metadata": {},
   "outputs": [],
   "source": [
    "import csv\n",
    "import tensorflow as tf\n",
    "import numpy as np\n",
    "from tensorflow.keras.preprocessing.text import Tokenizer\n",
    "from tensorflow.keras.preprocessing.sequence import pad_sequences\n",
    "from nltk.corpus import stopwords\n",
    "STOPWORDS = set(stopwords.words('english'))"
   ]
  },
  {
   "cell_type": "code",
   "execution_count": 35,
   "metadata": {},
   "outputs": [
    {
     "data": {
      "text/plain": [
       "{'a',\n",
       " 'about',\n",
       " 'above',\n",
       " 'after',\n",
       " 'again',\n",
       " 'against',\n",
       " 'ain',\n",
       " 'all',\n",
       " 'am',\n",
       " 'an',\n",
       " 'and',\n",
       " 'any',\n",
       " 'are',\n",
       " 'aren',\n",
       " \"aren't\",\n",
       " 'as',\n",
       " 'at',\n",
       " 'be',\n",
       " 'because',\n",
       " 'been',\n",
       " 'before',\n",
       " 'being',\n",
       " 'below',\n",
       " 'between',\n",
       " 'both',\n",
       " 'but',\n",
       " 'by',\n",
       " 'can',\n",
       " 'couldn',\n",
       " \"couldn't\",\n",
       " 'd',\n",
       " 'did',\n",
       " 'didn',\n",
       " \"didn't\",\n",
       " 'do',\n",
       " 'does',\n",
       " 'doesn',\n",
       " \"doesn't\",\n",
       " 'doing',\n",
       " 'don',\n",
       " \"don't\",\n",
       " 'down',\n",
       " 'during',\n",
       " 'each',\n",
       " 'few',\n",
       " 'for',\n",
       " 'from',\n",
       " 'further',\n",
       " 'had',\n",
       " 'hadn',\n",
       " \"hadn't\",\n",
       " 'has',\n",
       " 'hasn',\n",
       " \"hasn't\",\n",
       " 'have',\n",
       " 'haven',\n",
       " \"haven't\",\n",
       " 'having',\n",
       " 'he',\n",
       " 'her',\n",
       " 'here',\n",
       " 'hers',\n",
       " 'herself',\n",
       " 'him',\n",
       " 'himself',\n",
       " 'his',\n",
       " 'how',\n",
       " 'i',\n",
       " 'if',\n",
       " 'in',\n",
       " 'into',\n",
       " 'is',\n",
       " 'isn',\n",
       " \"isn't\",\n",
       " 'it',\n",
       " \"it's\",\n",
       " 'its',\n",
       " 'itself',\n",
       " 'just',\n",
       " 'll',\n",
       " 'm',\n",
       " 'ma',\n",
       " 'me',\n",
       " 'mightn',\n",
       " \"mightn't\",\n",
       " 'more',\n",
       " 'most',\n",
       " 'mustn',\n",
       " \"mustn't\",\n",
       " 'my',\n",
       " 'myself',\n",
       " 'needn',\n",
       " \"needn't\",\n",
       " 'no',\n",
       " 'nor',\n",
       " 'not',\n",
       " 'now',\n",
       " 'o',\n",
       " 'of',\n",
       " 'off',\n",
       " 'on',\n",
       " 'once',\n",
       " 'only',\n",
       " 'or',\n",
       " 'other',\n",
       " 'our',\n",
       " 'ours',\n",
       " 'ourselves',\n",
       " 'out',\n",
       " 'over',\n",
       " 'own',\n",
       " 're',\n",
       " 's',\n",
       " 'same',\n",
       " 'shan',\n",
       " \"shan't\",\n",
       " 'she',\n",
       " \"she's\",\n",
       " 'should',\n",
       " \"should've\",\n",
       " 'shouldn',\n",
       " \"shouldn't\",\n",
       " 'so',\n",
       " 'some',\n",
       " 'such',\n",
       " 't',\n",
       " 'than',\n",
       " 'that',\n",
       " \"that'll\",\n",
       " 'the',\n",
       " 'their',\n",
       " 'theirs',\n",
       " 'them',\n",
       " 'themselves',\n",
       " 'then',\n",
       " 'there',\n",
       " 'these',\n",
       " 'they',\n",
       " 'this',\n",
       " 'those',\n",
       " 'through',\n",
       " 'to',\n",
       " 'too',\n",
       " 'under',\n",
       " 'until',\n",
       " 'up',\n",
       " 've',\n",
       " 'very',\n",
       " 'was',\n",
       " 'wasn',\n",
       " \"wasn't\",\n",
       " 'we',\n",
       " 'were',\n",
       " 'weren',\n",
       " \"weren't\",\n",
       " 'what',\n",
       " 'when',\n",
       " 'where',\n",
       " 'which',\n",
       " 'while',\n",
       " 'who',\n",
       " 'whom',\n",
       " 'why',\n",
       " 'will',\n",
       " 'with',\n",
       " 'won',\n",
       " \"won't\",\n",
       " 'wouldn',\n",
       " \"wouldn't\",\n",
       " 'y',\n",
       " 'you',\n",
       " \"you'd\",\n",
       " \"you'll\",\n",
       " \"you're\",\n",
       " \"you've\",\n",
       " 'your',\n",
       " 'yours',\n",
       " 'yourself',\n",
       " 'yourselves'}"
      ]
     },
     "execution_count": 35,
     "metadata": {},
     "output_type": "execute_result"
    }
   ],
   "source": [
    "STOPWORDS"
   ]
  },
  {
   "cell_type": "markdown",
   "metadata": {},
   "source": [
    "Put the hyparameters at the top like this to make it easier to change and edit."
   ]
  },
  {
   "cell_type": "code",
   "execution_count": 45,
   "metadata": {},
   "outputs": [],
   "source": [
    "vocab_size = 20000\n",
    "embedding_dim = 64\n",
    "max_length = 200\n",
    "trunc_type = 'post'\n",
    "padding_type = 'post'\n",
    "oov_tok = '<OOV>'\n",
    "training_portion = .8"
   ]
  },
  {
   "cell_type": "markdown",
   "metadata": {},
   "source": [
    "First, let's define two lists that containing articles and labels. In the meantime, we remove stopwords."
   ]
  },
  {
   "cell_type": "code",
   "execution_count": 46,
   "metadata": {},
   "outputs": [
    {
     "name": "stdout",
     "output_type": "stream",
     "text": [
      "2225\n",
      "2225\n"
     ]
    }
   ],
   "source": [
    "articles = []\n",
    "labels = []\n",
    "\n",
    "with open(\"bbc-text.csv\", 'r') as csvfile:\n",
    "    reader = csv.reader(csvfile, delimiter=',')\n",
    "    next(reader)\n",
    "    for row in reader:\n",
    "        labels.append(row[0])\n",
    "        article = row[1]\n",
    "        for word in STOPWORDS:\n",
    "            token = ' ' + word + ' '\n",
    "            article = article.replace(token, ' ')\n",
    "            article = article.replace(' ', ' ')\n",
    "        articles.append(article)\n",
    "print(len(labels))\n",
    "print(len(articles))"
   ]
  },
  {
   "cell_type": "markdown",
   "metadata": {},
   "source": [
    "There are only 2,225 articles in the data. Then we split into training set and validation set, according to the parameter we set earlier, 80% for training, 20% for validation."
   ]
  },
  {
   "cell_type": "code",
   "execution_count": 47,
   "metadata": {},
   "outputs": [
    {
     "name": "stdout",
     "output_type": "stream",
     "text": [
      "1780\n",
      "1780\n",
      "1780\n",
      "445\n",
      "445\n"
     ]
    }
   ],
   "source": [
    "train_size = int(len(articles) * training_portion)\n",
    "\n",
    "train_articles = articles[0: train_size]\n",
    "train_labels = labels[0: train_size]\n",
    "\n",
    "validation_articles = articles[train_size:]\n",
    "validation_labels = labels[train_size:]\n",
    "\n",
    "print(train_size)\n",
    "print(len(train_articles))\n",
    "print(len(train_labels))\n",
    "print(len(validation_articles))\n",
    "print(len(validation_labels))"
   ]
  },
  {
   "cell_type": "markdown",
   "metadata": {},
   "source": [
    "Tokenizer does all the heavy lifting for us. In our articles that it was tokenizing, it will take 5,000 most common words. oov_token is to put a special value in when an unseen word is encountered. This means I want \"OOV\" in bracket to be used to for words that are not in the word index. \"fit_on_text\" will go through all the text and create dictionary like this:"
   ]
  },
  {
   "cell_type": "code",
   "execution_count": 48,
   "metadata": {},
   "outputs": [],
   "source": [
    "tokenizer = Tokenizer(num_words = vocab_size, oov_token=oov_tok)\n",
    "tokenizer.fit_on_texts(train_articles)\n",
    "word_index = tokenizer.word_index"
   ]
  },
  {
   "cell_type": "markdown",
   "metadata": {},
   "source": [
    "You can see that \"OOV\" in bracket is number 1, \"said\" is number 2, \"mr\" is number 3, and so on."
   ]
  },
  {
   "cell_type": "code",
   "execution_count": 49,
   "metadata": {
    "scrolled": false
   },
   "outputs": [
    {
     "data": {
      "text/plain": [
       "{'<OOV>': 1,\n",
       " 'said': 2,\n",
       " 'mr': 3,\n",
       " 'would': 4,\n",
       " 'year': 5,\n",
       " 'also': 6,\n",
       " 'people': 7,\n",
       " 'new': 8,\n",
       " 'us': 9,\n",
       " 'one': 10}"
      ]
     },
     "execution_count": 49,
     "metadata": {},
     "output_type": "execute_result"
    }
   ],
   "source": [
    "dict(list(word_index.items())[0:10])"
   ]
  },
  {
   "cell_type": "markdown",
   "metadata": {},
   "source": [
    "This process cleans up our text, lowercase, and remove punctuations."
   ]
  },
  {
   "cell_type": "markdown",
   "metadata": {},
   "source": [
    "After tokenization, the next step is to turn thoes tokens into lists of sequence."
   ]
  },
  {
   "cell_type": "code",
   "execution_count": 50,
   "metadata": {},
   "outputs": [],
   "source": [
    "train_sequences = tokenizer.texts_to_sequences(train_articles)"
   ]
  },
  {
   "cell_type": "markdown",
   "metadata": {},
   "source": [
    "This is the 11th article in the training data that has been turned into sequences."
   ]
  },
  {
   "cell_type": "code",
   "execution_count": 51,
   "metadata": {
    "scrolled": false
   },
   "outputs": [
    {
     "name": "stdout",
     "output_type": "stream",
     "text": [
      "[2431, 8718, 225, 4996, 22, 641, 587, 225, 4996, 7154, 11247, 1661, 8719, 9796, 2431, 22, 565, 6120, 7155, 140, 278, 13483, 140, 278, 796, 823, 662, 2307, 7155, 1145, 1692, 17556, 1719, 4997, 13484, 6586, 7850, 17557, 13485, 4738, 9797, 6121, 122, 4514, 13486, 2, 2873, 1505, 352, 4739, 17558, 52, 341, 6122, 352, 2171, 3963, 41, 22, 3795, 17559, 17560, 17561, 7155, 542, 13487, 9798, 7156, 835, 631, 2366, 347, 4740, 7851, 365, 22, 13486, 787, 2367, 13488, 4302, 138, 10, 7155, 3664, 682, 3532, 6587, 22, 7155, 414, 823, 662, 7154, 90, 13, 633, 6586, 225, 4996, 7850, 599, 13489, 1692, 1021, 7850, 4998, 808, 1863, 117, 11248, 9797, 6121, 2973, 22, 8720, 99, 278, 7155, 1606, 4999, 542, 492, 7155, 1443, 4741, 778, 1320, 7852, 1860, 10, 33, 641, 319, 7157, 62, 478, 565, 301, 1506, 22, 479, 13490, 7853, 1664, 7158, 797, 6588, 3066, 11249, 1364, 6, 13491, 2431, 565, 22, 2970, 4735, 7158, 13492, 7158, 13493, 17562, 850, 39, 1824, 675, 297, 26, 979, 13494, 882, 22, 361, 22, 13, 301, 1506, 1342, 374, 20, 63, 883, 1097, 4303, 247]\n"
     ]
    }
   ],
   "source": [
    "print(train_sequences[10])"
   ]
  },
  {
   "cell_type": "markdown",
   "metadata": {},
   "source": [
    "When we train neural networks for NLP, we need sequences to be in the same size, that's why we use padding. Our max_length is 200, so we use pad_sequences to make all of our articles the same length which is 200 in my example. That's why you see that the 1st article was 426 in length, becomes 200, the 2nd article was 192 in length, becomes 200, and so on."
   ]
  },
  {
   "cell_type": "code",
   "execution_count": 52,
   "metadata": {},
   "outputs": [],
   "source": [
    "train_padded = pad_sequences(train_sequences, maxlen=max_length, padding=padding_type, truncating=trunc_type)"
   ]
  },
  {
   "cell_type": "code",
   "execution_count": 53,
   "metadata": {},
   "outputs": [
    {
     "name": "stdout",
     "output_type": "stream",
     "text": [
      "425\n",
      "200\n",
      "192\n",
      "200\n",
      "186\n",
      "200\n"
     ]
    }
   ],
   "source": [
    "print(len(train_sequences[0]))\n",
    "print(len(train_padded[0]))\n",
    "\n",
    "print(len(train_sequences[1]))\n",
    "print(len(train_padded[1]))\n",
    "\n",
    "print(len(train_sequences[10]))\n",
    "print(len(train_padded[10]))"
   ]
  },
  {
   "cell_type": "markdown",
   "metadata": {},
   "source": [
    "In addtion, there is padding type and truncating type, there are all \"post\". Means for example, for the 11th article, it was 186 in length, we padded to 200, and we padded at the end, add 14 zeros."
   ]
  },
  {
   "cell_type": "code",
   "execution_count": 54,
   "metadata": {},
   "outputs": [
    {
     "name": "stdout",
     "output_type": "stream",
     "text": [
      "[2431, 8718, 225, 4996, 22, 641, 587, 225, 4996, 7154, 11247, 1661, 8719, 9796, 2431, 22, 565, 6120, 7155, 140, 278, 13483, 140, 278, 796, 823, 662, 2307, 7155, 1145, 1692, 17556, 1719, 4997, 13484, 6586, 7850, 17557, 13485, 4738, 9797, 6121, 122, 4514, 13486, 2, 2873, 1505, 352, 4739, 17558, 52, 341, 6122, 352, 2171, 3963, 41, 22, 3795, 17559, 17560, 17561, 7155, 542, 13487, 9798, 7156, 835, 631, 2366, 347, 4740, 7851, 365, 22, 13486, 787, 2367, 13488, 4302, 138, 10, 7155, 3664, 682, 3532, 6587, 22, 7155, 414, 823, 662, 7154, 90, 13, 633, 6586, 225, 4996, 7850, 599, 13489, 1692, 1021, 7850, 4998, 808, 1863, 117, 11248, 9797, 6121, 2973, 22, 8720, 99, 278, 7155, 1606, 4999, 542, 492, 7155, 1443, 4741, 778, 1320, 7852, 1860, 10, 33, 641, 319, 7157, 62, 478, 565, 301, 1506, 22, 479, 13490, 7853, 1664, 7158, 797, 6588, 3066, 11249, 1364, 6, 13491, 2431, 565, 22, 2970, 4735, 7158, 13492, 7158, 13493, 17562, 850, 39, 1824, 675, 297, 26, 979, 13494, 882, 22, 361, 22, 13, 301, 1506, 1342, 374, 20, 63, 883, 1097, 4303, 247]\n"
     ]
    }
   ],
   "source": [
    "print(train_sequences[10])"
   ]
  },
  {
   "cell_type": "code",
   "execution_count": 55,
   "metadata": {},
   "outputs": [
    {
     "name": "stdout",
     "output_type": "stream",
     "text": [
      "[ 2431  8718   225  4996    22   641   587   225  4996  7154 11247  1661\n",
      "  8719  9796  2431    22   565  6120  7155   140   278 13483   140   278\n",
      "   796   823   662  2307  7155  1145  1692 17556  1719  4997 13484  6586\n",
      "  7850 17557 13485  4738  9797  6121   122  4514 13486     2  2873  1505\n",
      "   352  4739 17558    52   341  6122   352  2171  3963    41    22  3795\n",
      " 17559 17560 17561  7155   542 13487  9798  7156   835   631  2366   347\n",
      "  4740  7851   365    22 13486   787  2367 13488  4302   138    10  7155\n",
      "  3664   682  3532  6587    22  7155   414   823   662  7154    90    13\n",
      "   633  6586   225  4996  7850   599 13489  1692  1021  7850  4998   808\n",
      "  1863   117 11248  9797  6121  2973    22  8720    99   278  7155  1606\n",
      "  4999   542   492  7155  1443  4741   778  1320  7852  1860    10    33\n",
      "   641   319  7157    62   478   565   301  1506    22   479 13490  7853\n",
      "  1664  7158   797  6588  3066 11249  1364     6 13491  2431   565    22\n",
      "  2970  4735  7158 13492  7158 13493 17562   850    39  1824   675   297\n",
      "    26   979 13494   882    22   361    22    13   301  1506  1342   374\n",
      "    20    63   883  1097  4303   247     0     0     0     0     0     0\n",
      "     0     0     0     0     0     0     0     0]\n"
     ]
    }
   ],
   "source": [
    "print(train_padded[10])"
   ]
  },
  {
   "cell_type": "markdown",
   "metadata": {},
   "source": [
    "And for the 1st article, it was 426 in length, we truncated to 200, and we truncated at the end."
   ]
  },
  {
   "cell_type": "code",
   "execution_count": 56,
   "metadata": {},
   "outputs": [
    {
     "name": "stdout",
     "output_type": "stream",
     "text": [
      "[91, 160, 1142, 1107, 49, 979, 755, 6569, 89, 1304, 4289, 129, 175, 3653, 1214, 1195, 1575, 42, 7, 893, 91, 6099, 334, 85, 20, 14, 130, 3261, 1215, 2421, 570, 451, 1375, 58, 3379, 3522, 1659, 8, 921, 730, 10, 844, 17503, 9, 598, 1576, 1108, 395, 1940, 1107, 731, 49, 537, 1397, 2010, 1621, 134, 249, 113, 2355, 795, 4981, 980, 584, 10, 3958, 3959, 921, 2562, 129, 344, 175, 3653, 7822, 5317, 39, 62, 2866, 28, 9, 4723, 18, 1305, 136, 416, 7, 143, 1422, 71, 4501, 436, 4982, 91, 1108, 77, 6100, 82, 2011, 53, 7823, 91, 6, 1008, 609, 89, 1304, 91, 1963, 131, 137, 420, 9, 2867, 38, 152, 1235, 89, 1304, 4724, 7, 436, 4982, 3153, 6, 2492, 8701, 431, 1127, 7824, 1423, 571, 1216, 1901, 13452, 766, 9, 537, 1397, 2010, 134, 2068, 400, 845, 1964, 1599, 34, 1715, 2868, 5318, 5319, 2422, 244, 9, 2624, 82, 732, 6, 1173, 1196, 152, 720, 591, 9773, 124, 28, 1305, 1688, 432, 83, 933, 115, 20, 14, 18, 3154, 17504, 37, 1484, 13453, 23, 37, 87, 335, 2356, 37, 467, 255, 1964, 1358, 328, 5700, 299, 732, 1174, 18, 2869, 1715, 5319, 294, 756, 1075, 395, 2012, 387, 431, 2012, 2, 1359, 11225, 1715, 2165, 67, 17505, 17506, 1716, 249, 1660, 3059, 1175, 395, 41, 878, 246, 2792, 345, 53, 548, 400, 2, 17507, 17508, 655, 1360, 202, 91, 3960, 91, 90, 42, 7, 320, 395, 77, 893, 13454, 91, 1107, 400, 537, 9, 845, 2422, 11, 38, 9774, 995, 513, 483, 2069, 160, 572, 17509, 128, 7, 320, 77, 893, 1217, 1127, 1464, 346, 54, 2213, 1218, 741, 92, 256, 274, 1019, 71, 623, 346, 2423, 756, 1215, 2357, 1717, 6101, 3783, 3523, 7824, 1127, 2012, 177, 371, 1398, 77, 53, 548, 105, 1142, 3, 11225, 1048, 93, 2961, 17510, 2625, 9775, 102, 902, 440, 452, 2, 3, 11225, 2870, 451, 1424, 43, 77, 429, 31, 8, 1019, 921, 6570, 2562, 30, 6102, 91, 1689, 879, 89, 1304, 91, 1963, 7136, 30, 8, 1622, 7137, 7138, 4290, 1577, 4289, 656, 7822, 3784, 1008, 572, 4291, 2866, 10, 880, 656, 58, 17511, 1262, 5320, 7137, 91, 1552, 934, 4723, 7822, 577, 4106, 10, 9, 235, 2010, 91, 134, 17512, 95, 656, 3262, 7822, 58, 519, 673, 2626, 3784, 4983, 3380, 483, 4725, 39, 4501, 8702, 91, 1746, 673, 269, 116, 239, 2627, 354, 643, 58, 4107, 757, 3654, 4723, 146, 17513, 400, 7, 71, 1747, 1108, 767, 910, 118, 584, 3381, 1316, 1576, 9776, 1600, 7, 893, 77, 77]\n"
     ]
    }
   ],
   "source": [
    "print(train_sequences[0])"
   ]
  },
  {
   "cell_type": "code",
   "execution_count": 57,
   "metadata": {},
   "outputs": [
    {
     "name": "stdout",
     "output_type": "stream",
     "text": [
      "[   91   160  1142  1107    49   979   755  6569    89  1304  4289   129\n",
      "   175  3653  1214  1195  1575    42     7   893    91  6099   334    85\n",
      "    20    14   130  3261  1215  2421   570   451  1375    58  3379  3522\n",
      "  1659     8   921   730    10   844 17503     9   598  1576  1108   395\n",
      "  1940  1107   731    49   537  1397  2010  1621   134   249   113  2355\n",
      "   795  4981   980   584    10  3958  3959   921  2562   129   344   175\n",
      "  3653  7822  5317    39    62  2866    28     9  4723    18  1305   136\n",
      "   416     7   143  1422    71  4501   436  4982    91  1108    77  6100\n",
      "    82  2011    53  7823    91     6  1008   609    89  1304    91  1963\n",
      "   131   137   420     9  2867    38   152  1235    89  1304  4724     7\n",
      "   436  4982  3153     6  2492  8701   431  1127  7824  1423   571  1216\n",
      "  1901 13452   766     9   537  1397  2010   134  2068   400   845  1964\n",
      "  1599    34  1715  2868  5318  5319  2422   244     9  2624    82   732\n",
      "     6  1173  1196   152   720   591  9773   124    28  1305  1688   432\n",
      "    83   933   115    20    14    18  3154 17504    37  1484 13453    23\n",
      "    37    87   335  2356    37   467   255  1964  1358   328  5700   299\n",
      "   732  1174    18  2869  1715  5319   294   756]\n"
     ]
    }
   ],
   "source": [
    "print(train_padded[0])"
   ]
  },
  {
   "cell_type": "markdown",
   "metadata": {},
   "source": [
    "Then we do the same for the validation sequences. Note that we should expect more out of vocabulary words from validation articles because word index were derived from the training articles."
   ]
  },
  {
   "cell_type": "code",
   "execution_count": 58,
   "metadata": {},
   "outputs": [
    {
     "name": "stdout",
     "output_type": "stream",
     "text": [
      "445\n",
      "(445, 200)\n"
     ]
    }
   ],
   "source": [
    "validation_sequences = tokenizer.texts_to_sequences(validation_articles)\n",
    "validation_padded = pad_sequences(validation_sequences, maxlen=max_length, padding=padding_type, truncating=trunc_type)\n",
    "\n",
    "print(len(validation_sequences))\n",
    "print(validation_padded.shape)"
   ]
  },
  {
   "cell_type": "markdown",
   "metadata": {},
   "source": [
    "Now we are going to look at the labels. because our labels are text, so we will tokenize them, when training, labels are expected to be numpy arrays. So we will turn list of labels into numpy arrays like so:"
   ]
  },
  {
   "cell_type": "code",
   "execution_count": 68,
   "metadata": {},
   "outputs": [
    {
     "name": "stdout",
     "output_type": "stream",
     "text": [
      "{'entertainment', 'business', 'tech', 'sport', 'politics'}\n"
     ]
    }
   ],
   "source": [
    "print(set(labels))"
   ]
  },
  {
   "cell_type": "code",
   "execution_count": 60,
   "metadata": {},
   "outputs": [],
   "source": [
    "label_tokenizer = Tokenizer()\n",
    "label_tokenizer.fit_on_texts(labels)\n",
    "\n",
    "training_label_seq = np.array(label_tokenizer.texts_to_sequences(train_labels))\n",
    "validation_label_seq = np.array(label_tokenizer.texts_to_sequences(validation_labels))"
   ]
  },
  {
   "cell_type": "code",
   "execution_count": 76,
   "metadata": {},
   "outputs": [
    {
     "data": {
      "text/plain": [
       "{'sport': 1, 'business': 2, 'politics': 3, 'tech': 4, 'entertainment': 5}"
      ]
     },
     "execution_count": 76,
     "metadata": {},
     "output_type": "execute_result"
    }
   ],
   "source": [
    "label_tokenizer.word_index"
   ]
  },
  {
   "cell_type": "code",
   "execution_count": 61,
   "metadata": {},
   "outputs": [
    {
     "name": "stdout",
     "output_type": "stream",
     "text": [
      "[4]\n",
      "[2]\n",
      "[1]\n",
      "(1780, 1)\n",
      "[5]\n",
      "[4]\n",
      "[3]\n",
      "(445, 1)\n"
     ]
    }
   ],
   "source": [
    "print(training_label_seq[0])\n",
    "print(training_label_seq[1])\n",
    "print(training_label_seq[2])\n",
    "print(training_label_seq.shape)\n",
    "\n",
    "print(validation_label_seq[0])\n",
    "print(validation_label_seq[1])\n",
    "print(validation_label_seq[2])\n",
    "print(validation_label_seq.shape)"
   ]
  },
  {
   "cell_type": "markdown",
   "metadata": {},
   "source": [
    "Before training deep neural network, we want to explore what our original article and article after padding look like. Running the following code, we explore the 11th article, we can see that some words become \"OOV\", because they did not make to the top 5,000."
   ]
  },
  {
   "cell_type": "code",
   "execution_count": 62,
   "metadata": {},
   "outputs": [
    {
     "name": "stdout",
     "output_type": "stream",
     "text": [
      "berlin cheers anti nazi film german movie anti nazi resistance heroine drawn loud applause berlin film festival sophie scholl final days portrays final days member white rose movement scholl 21 arrested beheaded brother hans 1943 distributing leaflets condemning abhorrent tyranny adolf hitler director marc rothemund said feeling responsibility keep legacy scholls going must somehow keep ideas alive added film drew transcripts gestapo interrogations scholl trial preserved archive communist east germany secret police discovery inspiration behind film rothemund worked closely surviving relatives including one scholl sisters ensure historical accuracy film scholl members white rose resistance group first started distributing anti nazi leaflets summer 1942 arrested dropped leaflets munich university calling day reckoning adolf hitler regime film focuses six days scholl arrest intense trial saw scholl initially deny charges ended defiant appearance one three german films vying top prize festival south african film version bizet tragic opera carmen shot cape town xhosa language also premiered berlin festival film entitled u carmen ekhayelitsha carmen khayelitsha township story set performed 40 strong music theatre troupe debut film performance film first south african feature 25 years second nominated golden bear award ? ? ? ? ? ? ? ? ? ? ? ? ? ?\n",
      "---\n",
      "berlin cheers anti-nazi film german movie anti-nazi resistance heroine drawn loud applause berlin film festival.  sophie scholl - final days portrays final days member white rose movement. scholl  21  arrested beheaded brother  hans  1943 distributing leaflets condemning  abhorrent tyranny  adolf hitler. director marc rothemund said:  feeling responsibility keep legacy scholls going.   must somehow keep ideas alive   added.  film drew transcripts gestapo interrogations scholl trial preserved archive communist east germany secret police. discovery inspiration behind film rothemund  worked closely surviving relatives  including one scholl sisters  ensure historical accuracy film. scholl members white rose resistance group first started distributing anti-nazi leaflets summer 1942. arrested dropped leaflets munich university calling  day reckoning  adolf hitler regime. film focuses six days scholl arrest intense trial saw scholl initially deny charges ended defiant appearance. one three german films vying top prize festival.  south african film version bizet tragic opera carmen shot cape town xhosa language also premiered berlin festival. film entitled u-carmen ekhayelitsha carmen khayelitsha township story set. performed 40-strong music theatre troupe debut film performance. film first south african feature 25 years second nominated golden bear award.\n"
     ]
    }
   ],
   "source": [
    "reverse_word_index = dict([(value, key) for (key, value) in word_index.items()])\n",
    "\n",
    "def decode_article(text):\n",
    "    return ' '.join([reverse_word_index.get(i, '?') for i in text])\n",
    "print(decode_article(train_padded[10]))\n",
    "print('---')\n",
    "print(train_articles[10])"
   ]
  },
  {
   "cell_type": "markdown",
   "metadata": {},
   "source": [
    "Now we can implement LSTM. Here is my code that I build a tf.keras.Sequential model and start with an embedding layer. An embedding layer stores one vector per word. When called, it converts the sequences of word indices into sequences of vectors. After training, words with similar meanings often have the similar vectors.\n",
    "\n",
    "Next is how to implement LSTM in code. The Bidirectional wrapper is used with a LSTM layer, this propagates the input forwards and backwards through the LSTM layer and then concatenates the outputs. This helps LSTM to learn long term dependencies. We then fit it to a dense neural network to do classification.\n",
    "\n",
    "This index-lookup is much more efficient than the equivalent operation of passing a one-hot encoded vector through a tf.keras.layers.Dense layer."
   ]
  },
  {
   "cell_type": "code",
   "execution_count": 63,
   "metadata": {},
   "outputs": [
    {
     "name": "stdout",
     "output_type": "stream",
     "text": [
      "Model: \"sequential\"\n",
      "_________________________________________________________________\n",
      "Layer (type)                 Output Shape              Param #   \n",
      "=================================================================\n",
      "embedding (Embedding)        (None, None, 64)          1280000   \n",
      "_________________________________________________________________\n",
      "bidirectional (Bidirectional (None, 128)               66048     \n",
      "_________________________________________________________________\n",
      "dense (Dense)                (None, 64)                8256      \n",
      "_________________________________________________________________\n",
      "dense_1 (Dense)              (None, 6)                 390       \n",
      "=================================================================\n",
      "Total params: 1,354,694\n",
      "Trainable params: 1,354,694\n",
      "Non-trainable params: 0\n",
      "_________________________________________________________________\n"
     ]
    }
   ],
   "source": [
    "model = tf.keras.Sequential([\n",
    "    # Add an Embedding layer expecting input vocab of size 5000, and output embedding dimension of size 64 we set at the top\n",
    "    tf.keras.layers.Embedding(vocab_size, embedding_dim),\n",
    "    tf.keras.layers.Bidirectional(tf.keras.layers.LSTM(embedding_dim)),\n",
    "#    tf.keras.layers.Bidirectional(tf.keras.layers.LSTM(32)),\n",
    "    # use ReLU in place of tanh function since they are very good alternatives of each other.\n",
    "    tf.keras.layers.Dense(embedding_dim, activation='relu'),\n",
    "    # Add a Dense layer with 6 units and softmax activation.\n",
    "    # When we have multiple outputs, softmax convert outputs layers into a probability distribution.\n",
    "    tf.keras.layers.Dense(6, activation='softmax')\n",
    "])\n",
    "model.summary()"
   ]
  },
  {
   "cell_type": "markdown",
   "metadata": {},
   "source": [
    "In our model summay, we have our embeddings, our Bidirectional contains LSTM, followed by two dense layers. The output from Bidirectional is 128, because it doubled what we put in LSTM. We can also stack LSTM layer but I found the results worse."
   ]
  },
  {
   "cell_type": "code",
   "execution_count": 64,
   "metadata": {},
   "outputs": [],
   "source": [
    "model.compile(loss='sparse_categorical_crossentropy', optimizer='adam', metrics=['accuracy'])"
   ]
  },
  {
   "cell_type": "code",
   "execution_count": 66,
   "metadata": {},
   "outputs": [
    {
     "name": "stdout",
     "output_type": "stream",
     "text": [
      "Epoch 1/20\n",
      "56/56 - 6s - loss: 0.0011 - accuracy: 1.0000 - val_loss: 0.2313 - val_accuracy: 0.9393\n",
      "Epoch 2/20\n",
      "56/56 - 6s - loss: 6.8062e-04 - accuracy: 1.0000 - val_loss: 0.2353 - val_accuracy: 0.9393\n",
      "Epoch 3/20\n",
      "56/56 - 6s - loss: 4.6482e-04 - accuracy: 1.0000 - val_loss: 0.2338 - val_accuracy: 0.9416\n",
      "Epoch 4/20\n",
      "56/56 - 6s - loss: 3.2936e-04 - accuracy: 1.0000 - val_loss: 0.2375 - val_accuracy: 0.9393\n",
      "Epoch 5/20\n",
      "56/56 - 6s - loss: 2.4279e-04 - accuracy: 1.0000 - val_loss: 0.2386 - val_accuracy: 0.9393\n",
      "Epoch 6/20\n",
      "56/56 - 6s - loss: 1.8737e-04 - accuracy: 1.0000 - val_loss: 0.2403 - val_accuracy: 0.9393\n",
      "Epoch 7/20\n",
      "56/56 - 6s - loss: 1.4999e-04 - accuracy: 1.0000 - val_loss: 0.2412 - val_accuracy: 0.9393\n",
      "Epoch 8/20\n",
      "56/56 - 6s - loss: 1.2438e-04 - accuracy: 1.0000 - val_loss: 0.2410 - val_accuracy: 0.9393\n",
      "Epoch 9/20\n",
      "56/56 - 6s - loss: 1.0606e-04 - accuracy: 1.0000 - val_loss: 0.2424 - val_accuracy: 0.9416\n",
      "Epoch 10/20\n",
      "56/56 - 6s - loss: 9.1878e-05 - accuracy: 1.0000 - val_loss: 0.2434 - val_accuracy: 0.9416\n",
      "Epoch 11/20\n",
      "56/56 - 6s - loss: 8.0751e-05 - accuracy: 1.0000 - val_loss: 0.2446 - val_accuracy: 0.9416\n",
      "Epoch 12/20\n",
      "56/56 - 6s - loss: 7.1612e-05 - accuracy: 1.0000 - val_loss: 0.2462 - val_accuracy: 0.9416\n",
      "Epoch 13/20\n",
      "56/56 - 6s - loss: 6.4180e-05 - accuracy: 1.0000 - val_loss: 0.2477 - val_accuracy: 0.9416\n",
      "Epoch 14/20\n",
      "56/56 - 6s - loss: 5.7920e-05 - accuracy: 1.0000 - val_loss: 0.2493 - val_accuracy: 0.9416\n",
      "Epoch 15/20\n",
      "56/56 - 6s - loss: 5.2568e-05 - accuracy: 1.0000 - val_loss: 0.2508 - val_accuracy: 0.9416\n",
      "Epoch 16/20\n",
      "56/56 - 6s - loss: 4.7973e-05 - accuracy: 1.0000 - val_loss: 0.2522 - val_accuracy: 0.9416\n",
      "Epoch 17/20\n",
      "56/56 - 6s - loss: 4.3965e-05 - accuracy: 1.0000 - val_loss: 0.2538 - val_accuracy: 0.9416\n",
      "Epoch 18/20\n",
      "56/56 - 6s - loss: 4.0469e-05 - accuracy: 1.0000 - val_loss: 0.2552 - val_accuracy: 0.9438\n",
      "Epoch 19/20\n",
      "56/56 - 6s - loss: 3.7379e-05 - accuracy: 1.0000 - val_loss: 0.2567 - val_accuracy: 0.9438\n",
      "Epoch 20/20\n",
      "56/56 - 6s - loss: 3.4638e-05 - accuracy: 1.0000 - val_loss: 0.2579 - val_accuracy: 0.9438\n"
     ]
    }
   ],
   "source": [
    "num_epochs = 20\n",
    "history = model.fit(train_padded, training_label_seq, epochs=num_epochs, validation_data=(validation_padded, validation_label_seq), verbose=2)"
   ]
  },
  {
   "cell_type": "code",
   "execution_count": 42,
   "metadata": {},
   "outputs": [
    {
     "name": "stdout",
     "output_type": "stream",
     "text": [
      "Requirement already satisfied: matplotlib in c:\\users\\win10\\.conda\\envs\\tensorflow2\\lib\\site-packages (3.3.2)\n",
      "Requirement already satisfied: certifi>=2020.06.20 in c:\\users\\win10\\.conda\\envs\\tensorflow2\\lib\\site-packages (from matplotlib) (2020.6.20)\n",
      "Requirement already satisfied: numpy>=1.15 in c:\\users\\win10\\.conda\\envs\\tensorflow2\\lib\\site-packages (from matplotlib) (1.19.1)\n",
      "Requirement already satisfied: python-dateutil>=2.1 in c:\\users\\win10\\.conda\\envs\\tensorflow2\\lib\\site-packages (from matplotlib) (2.8.1)\n",
      "Requirement already satisfied: cycler>=0.10 in c:\\users\\win10\\.conda\\envs\\tensorflow2\\lib\\site-packages (from matplotlib) (0.10.0)\n",
      "Requirement already satisfied: kiwisolver>=1.0.1 in c:\\users\\win10\\.conda\\envs\\tensorflow2\\lib\\site-packages (from matplotlib) (1.2.0)\n",
      "Requirement already satisfied: pillow>=6.2.0 in c:\\users\\win10\\.conda\\envs\\tensorflow2\\lib\\site-packages (from matplotlib) (7.2.0)\n",
      "Requirement already satisfied: pyparsing!=2.0.4,!=2.1.2,!=2.1.6,>=2.0.3 in c:\\users\\win10\\.conda\\envs\\tensorflow2\\lib\\site-packages (from matplotlib) (2.4.7)\n",
      "Requirement already satisfied: six>=1.5 in c:\\users\\win10\\.conda\\envs\\tensorflow2\\lib\\site-packages (from python-dateutil>=2.1->matplotlib) (1.15.0)\n"
     ]
    }
   ],
   "source": [
    "!pip install matplotlib"
   ]
  },
  {
   "cell_type": "code",
   "execution_count": null,
   "metadata": {},
   "outputs": [],
   "source": []
  },
  {
   "cell_type": "code",
   "execution_count": 69,
   "metadata": {},
   "outputs": [
    {
     "data": {
      "image/png": "[encoded data removed]",
      "text/plain": [
       "<Figure size 432x288 with 1 Axes>"
      ]
     },
     "metadata": {
      "needs_background": "light"
     },
     "output_type": "display_data"
    },
    {
     "data": {
      "image/png": "[encoded data removed]",
      "text/plain": [
       "<Figure size 432x288 with 1 Axes>"
      ]
     },
     "metadata": {
      "needs_background": "light"
     },
     "output_type": "display_data"
    }
   ],
   "source": [
    "from matplotlib import pyplot as plt\n",
    "def plot_graphs(history, string):\n",
    "  plt.plot(history.history[string])\n",
    "  plt.plot(history.history['val_'+string])\n",
    "  plt.xlabel(\"Epochs\")\n",
    "  plt.ylabel(string)\n",
    "  plt.legend([string, 'val_'+string])\n",
    "  plt.show()\n",
    "  \n",
    "plot_graphs(history, \"accuracy\")\n",
    "plot_graphs(history, \"loss\")"
   ]
  },
  {
   "cell_type": "code",
   "execution_count": 70,
   "metadata": {},
   "outputs": [
    {
     "data": {
      "text/plain": [
       "array([[2.1468757e-08, 9.9999487e-01, 3.2503504e-08, 1.0811288e-07,\n",
       "        1.0476536e-08, 5.0495801e-06]], dtype=float32)"
      ]
     },
     "execution_count": 70,
     "metadata": {},
     "output_type": "execute_result"
    }
   ],
   "source": [
    "txt = [\"A WeWork shareholder has taken the company to court over the near-$1.7bn (£1.3bn) leaving package approved for ousted co-founder Adam Neumann.\"]\n",
    "seq = tokenizer.texts_to_sequences(txt)\n",
    "padded = pad_sequences(seq, maxlen=max_length)\n",
    "pred = model.predict(padded)\n",
    "pred"
   ]
  },
  {
   "cell_type": "code",
   "execution_count": 79,
   "metadata": {},
   "outputs": [
    {
     "name": "stdout",
     "output_type": "stream",
     "text": [
      "[[2.1433118e-08 9.9993944e-01 1.1084168e-07 3.7909661e-08 9.5222701e-09\n",
      "  6.0458875e-05]] bussiness\n"
     ]
    }
   ],
   "source": [
    "txt = [\"yeading face newcastle in fa cup premiership side newcastle united face a trip to ryman premier league leaders yeading in the fa cup third round.  the game - arguably the highlight of the draw - is a potential money-spinner for non-league yeading  who beat slough in the second round. conference side exeter city  who knocked out doncaster on saturday  will travel to old trafford to meet holders manchester united in january. arsenal were drawn at home to stoke and chelsea will play host to scunthorpe. the only other non-league side in the draw are hinckley united  who held brentford to a goalless draw on sunday. they will meet league one leaders luton if they win their replay against martin allen s team at griffin park.  a number of premiership teams face difficult away games against championship sides on the weekend of 8/9 january. third-placed everton visit plymouth  liverpool travel to burnley  crystal palace go to sunderland  fulham face carling cup semi-finalists watford  bolton meet ipswich  while aston villa were drawn against sheffield united. premiership strugglers norwich  blackburn  west brom are away at west ham  cardiff and preston north end respectively. southampton visit northampton  having already beaten the league two side in the carling cup earlier this season. middlesbrough were drawn away against either swindon or notts county  while spurs entertain brighton at white hart lane.  arsenal v stoke  swindon/notts co v middlesbrough  man utd v exeter  plymouth v everton  leicester v blackpool  derby v wigan  sunderland v crystal palace  wolves v millwall  yeading v newcastle  hull v colchester  tottenham v brighton  reading v stockport/swansea  birmingham v leeds  hartlepool v boston  milton keynes dons v peterborough  oldham v man city  chelsea v scunthorpe  cardiff v blackburn  charlton v rochdale  west ham v norwich  sheff utd v aston villa  preston v west brom  rotherham v yeovil  burnley v liverpool  bournemouth v chester  coventry v crewe  watford v fulham  ipswich v bolton  portsmouth v gillingham  northampton v southampton  qpr v nottm forest  luton v hinckley/brentford  matches to be played on weekend of 8/9 january.\"]\n",
    "seq = tokenizer.texts_to_sequences(txt)\n",
    "padded = pad_sequences(seq, maxlen=max_length)\n",
    "pred = model.predict(padded)\n",
    "labels = ['sport', 'bussiness', 'politics', 'tech', 'entertainment','unknown']\n",
    "#{'sport': 1, 'business': 2, 'politics': 3, 'tech': 4, 'entertainment': 5}\n",
    "print(pred, labels[np.argmax(pred)])"
   ]
  },
  {
   "cell_type": "code",
   "execution_count": 80,
   "metadata": {},
   "outputs": [
    {
     "data": {
      "text/plain": [
       "1"
      ]
     },
     "execution_count": 80,
     "metadata": {},
     "output_type": "execute_result"
    }
   ],
   "source": [
    "np.argmax(pred)"
   ]
  },
  {
   "cell_type": "code",
   "execution_count": null,
   "metadata": {},
   "outputs": [],
   "source": []
  }
 ],
 "metadata": {
  "kernelspec": {
   "display_name": "Python 3",
   "language": "python",
   "name": "python3"
  },
  "language_info": {
   "codemirror_mode": {
    "name": "ipython",
    "version": 3
   },
   "file_extension": ".py",
   "mimetype": "text/x-python",
   "name": "python",
   "nbconvert_exporter": "python",
   "pygments_lexer": "ipython3",
   "version": "3.8.5"
  }
 },
 "nbformat": 4,
 "nbformat_minor": 2
}
